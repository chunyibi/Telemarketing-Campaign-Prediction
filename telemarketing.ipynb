{
 "cells": [
  {
   "cell_type": "markdown",
   "metadata": {},
   "source": [
    "# Data Mining Approach to Predict  Telemarketing Campaign Result"
   ]
  },
  {
   "cell_type": "markdown",
   "metadata": {},
   "source": [
    "## About Data\n",
    "The data is related with direct marketing campaigns of a Portuguese banking institution. The marketing campaigns were based on phone calls. Often, more than one contact to the same client was required, in order to access if the product (bank term deposit) would be ('yes') or not ('no') subscribed.  \n",
    "\n",
    "### Attribute Information\n",
    "**Related with customers**   \n",
    "   1 - age (numeric)  \n",
    "   2 - job : type of job (categorical: \"admin.\",\"blue-collar\",\"entrepreneur\",\"housemaid\",\"management\",\"retired\",\"self-employed\", \"services\", \"student\", \"technician\", \"unemployed\",\"unknown\")  \n",
    "   3 - marital : marital status (categorical: \"divorced\",\"married\",\"single\",\"unknown\"; note: \"divorced\" means divorced or widowed)  \n",
    "   4 - education (categorical: \"basic.4y\", \"basic.6y\", \"basic.9y\", \"high.school\", \"illiterate\", \"professional.course\", \"university.degree\", \"unknown\")  \n",
    "   5 - default: has credit in default? (categorical: \"no\",\"yes\",\"unknown\")  \n",
    "   6 - housing: has housing loan? (categorical: \"no\",\"yes\",\"unknown\")  \n",
    "   7 - loan: has personal loan? (categorical: \"no\",\"yes\",\"unknown\")  \n",
    "**related with the last contact of the current campaign:**    \n",
    "   8 - contact: contact communication type (categorical: \"cellular\",\"telephone\")   \n",
    "   9 - month: last contact month of year (categorical: \"jan\", \"feb\", \"mar\", ..., \"nov\", \"dec\")  \n",
    "  10 - day_of_week: last contact day of the week (categorical: \"mon\",\"tue\",\"wed\",\"thu\",\"fri\")  \n",
    "  11 - duration: last contact duration, in seconds (numeric).  \n",
    "**other attributes:**    \n",
    "  12 - campaign: number of contacts performed during this campaign and for this client (numeric, includes last contact)  \n",
    "  13 - pdays: number of days that passed by after the client was last contacted from a previous campaign (numeric; 999 means client was not previously contacted)  \n",
    "  14 - previous: number of contacts performed before this campaign and for this client (numeric)  \n",
    "  15 - poutcome: outcome of the previous marketing campaign (categorical: \"failure\",\"nonexistent\",\"success\")  \n",
    "**social and economic context attributes**    \n",
    "  16 - emp.var.rate: employment variation rate - quarterly indicator (numeric)  \n",
    "  17 - cons.price.idx: consumer price index - monthly indicator (numeric)       \n",
    "  18 - cons.conf.idx: consumer confidence index - monthly indicator (numeric)       \n",
    "  19 - euribor3m: euribor 3 month rate - daily indicator (numeric)  \n",
    "  20 - nr.employed: number of employees - quarterly indicator (numeric)  \n",
    "\n",
    "**Output variable (desired target):**    \n",
    "  21 - y - has the client subscribed a term deposit? (binary: \"yes\",\"no\")  \n",
    "  \n",
    "### Goal\n",
    "Increase the effectiveness of the bank's telemarketing campaign\n",
    "1. develop understanding of the target customers, establish customer profile\n",
    "2. predict customers' response to telemarketing campaign"
   ]
  },
  {
   "cell_type": "markdown",
   "metadata": {},
   "source": [
    " ## Data Overview & Cleaning\n"
   ]
  },
  {
   "cell_type": "code",
   "execution_count": 1,
   "metadata": {},
   "outputs": [],
   "source": [
    "import pandas as pd\n",
    "import numpy as np\n",
    "import warnings\n",
    "warnings.filterwarnings(\"ignore\")"
   ]
  },
  {
   "cell_type": "code",
   "execution_count": 2,
   "metadata": {},
   "outputs": [
    {
     "name": "stdout",
     "output_type": "stream",
     "text": [
      "(41188, 21)\n"
     ]
    },
    {
     "data": {
      "text/html": [
       "<div>\n",
       "<style scoped>\n",
       "    .dataframe tbody tr th:only-of-type {\n",
       "        vertical-align: middle;\n",
       "    }\n",
       "\n",
       "    .dataframe tbody tr th {\n",
       "        vertical-align: top;\n",
       "    }\n",
       "\n",
       "    .dataframe thead th {\n",
       "        text-align: right;\n",
       "    }\n",
       "</style>\n",
       "<table border=\"1\" class=\"dataframe\">\n",
       "  <thead>\n",
       "    <tr style=\"text-align: right;\">\n",
       "      <th></th>\n",
       "      <th>age</th>\n",
       "      <th>job</th>\n",
       "      <th>marital</th>\n",
       "      <th>education</th>\n",
       "      <th>default</th>\n",
       "      <th>housing</th>\n",
       "      <th>loan</th>\n",
       "      <th>contact</th>\n",
       "      <th>month</th>\n",
       "      <th>day_of_week</th>\n",
       "      <th>...</th>\n",
       "      <th>campaign</th>\n",
       "      <th>pdays</th>\n",
       "      <th>previous</th>\n",
       "      <th>poutcome</th>\n",
       "      <th>emp.var.rate</th>\n",
       "      <th>cons.price.idx</th>\n",
       "      <th>cons.conf.idx</th>\n",
       "      <th>euribor3m</th>\n",
       "      <th>nr.employed</th>\n",
       "      <th>y</th>\n",
       "    </tr>\n",
       "  </thead>\n",
       "  <tbody>\n",
       "    <tr>\n",
       "      <td>0</td>\n",
       "      <td>56</td>\n",
       "      <td>housemaid</td>\n",
       "      <td>married</td>\n",
       "      <td>basic.4y</td>\n",
       "      <td>no</td>\n",
       "      <td>no</td>\n",
       "      <td>no</td>\n",
       "      <td>telephone</td>\n",
       "      <td>may</td>\n",
       "      <td>mon</td>\n",
       "      <td>...</td>\n",
       "      <td>1</td>\n",
       "      <td>999</td>\n",
       "      <td>0</td>\n",
       "      <td>nonexistent</td>\n",
       "      <td>1.1</td>\n",
       "      <td>93.994</td>\n",
       "      <td>-36.4</td>\n",
       "      <td>4.857</td>\n",
       "      <td>5191.0</td>\n",
       "      <td>no</td>\n",
       "    </tr>\n",
       "    <tr>\n",
       "      <td>1</td>\n",
       "      <td>57</td>\n",
       "      <td>services</td>\n",
       "      <td>married</td>\n",
       "      <td>high.school</td>\n",
       "      <td>unknown</td>\n",
       "      <td>no</td>\n",
       "      <td>no</td>\n",
       "      <td>telephone</td>\n",
       "      <td>may</td>\n",
       "      <td>mon</td>\n",
       "      <td>...</td>\n",
       "      <td>1</td>\n",
       "      <td>999</td>\n",
       "      <td>0</td>\n",
       "      <td>nonexistent</td>\n",
       "      <td>1.1</td>\n",
       "      <td>93.994</td>\n",
       "      <td>-36.4</td>\n",
       "      <td>4.857</td>\n",
       "      <td>5191.0</td>\n",
       "      <td>no</td>\n",
       "    </tr>\n",
       "    <tr>\n",
       "      <td>2</td>\n",
       "      <td>37</td>\n",
       "      <td>services</td>\n",
       "      <td>married</td>\n",
       "      <td>high.school</td>\n",
       "      <td>no</td>\n",
       "      <td>yes</td>\n",
       "      <td>no</td>\n",
       "      <td>telephone</td>\n",
       "      <td>may</td>\n",
       "      <td>mon</td>\n",
       "      <td>...</td>\n",
       "      <td>1</td>\n",
       "      <td>999</td>\n",
       "      <td>0</td>\n",
       "      <td>nonexistent</td>\n",
       "      <td>1.1</td>\n",
       "      <td>93.994</td>\n",
       "      <td>-36.4</td>\n",
       "      <td>4.857</td>\n",
       "      <td>5191.0</td>\n",
       "      <td>no</td>\n",
       "    </tr>\n",
       "    <tr>\n",
       "      <td>3</td>\n",
       "      <td>40</td>\n",
       "      <td>admin.</td>\n",
       "      <td>married</td>\n",
       "      <td>basic.6y</td>\n",
       "      <td>no</td>\n",
       "      <td>no</td>\n",
       "      <td>no</td>\n",
       "      <td>telephone</td>\n",
       "      <td>may</td>\n",
       "      <td>mon</td>\n",
       "      <td>...</td>\n",
       "      <td>1</td>\n",
       "      <td>999</td>\n",
       "      <td>0</td>\n",
       "      <td>nonexistent</td>\n",
       "      <td>1.1</td>\n",
       "      <td>93.994</td>\n",
       "      <td>-36.4</td>\n",
       "      <td>4.857</td>\n",
       "      <td>5191.0</td>\n",
       "      <td>no</td>\n",
       "    </tr>\n",
       "    <tr>\n",
       "      <td>4</td>\n",
       "      <td>56</td>\n",
       "      <td>services</td>\n",
       "      <td>married</td>\n",
       "      <td>high.school</td>\n",
       "      <td>no</td>\n",
       "      <td>no</td>\n",
       "      <td>yes</td>\n",
       "      <td>telephone</td>\n",
       "      <td>may</td>\n",
       "      <td>mon</td>\n",
       "      <td>...</td>\n",
       "      <td>1</td>\n",
       "      <td>999</td>\n",
       "      <td>0</td>\n",
       "      <td>nonexistent</td>\n",
       "      <td>1.1</td>\n",
       "      <td>93.994</td>\n",
       "      <td>-36.4</td>\n",
       "      <td>4.857</td>\n",
       "      <td>5191.0</td>\n",
       "      <td>no</td>\n",
       "    </tr>\n",
       "  </tbody>\n",
       "</table>\n",
       "<p>5 rows × 21 columns</p>\n",
       "</div>"
      ],
      "text/plain": [
       "   age        job  marital    education  default housing loan    contact  \\\n",
       "0   56  housemaid  married     basic.4y       no      no   no  telephone   \n",
       "1   57   services  married  high.school  unknown      no   no  telephone   \n",
       "2   37   services  married  high.school       no     yes   no  telephone   \n",
       "3   40     admin.  married     basic.6y       no      no   no  telephone   \n",
       "4   56   services  married  high.school       no      no  yes  telephone   \n",
       "\n",
       "  month day_of_week  ...  campaign  pdays  previous     poutcome emp.var.rate  \\\n",
       "0   may         mon  ...         1    999         0  nonexistent          1.1   \n",
       "1   may         mon  ...         1    999         0  nonexistent          1.1   \n",
       "2   may         mon  ...         1    999         0  nonexistent          1.1   \n",
       "3   may         mon  ...         1    999         0  nonexistent          1.1   \n",
       "4   may         mon  ...         1    999         0  nonexistent          1.1   \n",
       "\n",
       "   cons.price.idx  cons.conf.idx  euribor3m  nr.employed   y  \n",
       "0          93.994          -36.4      4.857       5191.0  no  \n",
       "1          93.994          -36.4      4.857       5191.0  no  \n",
       "2          93.994          -36.4      4.857       5191.0  no  \n",
       "3          93.994          -36.4      4.857       5191.0  no  \n",
       "4          93.994          -36.4      4.857       5191.0  no  \n",
       "\n",
       "[5 rows x 21 columns]"
      ]
     },
     "execution_count": 2,
     "metadata": {},
     "output_type": "execute_result"
    }
   ],
   "source": [
    "# Load the dataset\n",
    "df=pd.read_csv(r\"C:\\Users\\chuny\\Desktop\\bank-additional-full.csv\",sep=\";\")\n",
    "print(df.shape)\n",
    "df.head()"
   ]
  },
  {
   "cell_type": "code",
   "execution_count": 3,
   "metadata": {},
   "outputs": [
    {
     "name": "stdout",
     "output_type": "stream",
     "text": [
      "<class 'pandas.core.frame.DataFrame'>\n",
      "RangeIndex: 41188 entries, 0 to 41187\n",
      "Data columns (total 21 columns):\n",
      "age               41188 non-null int64\n",
      "job               41188 non-null object\n",
      "marital           41188 non-null object\n",
      "education         41188 non-null object\n",
      "default           41188 non-null object\n",
      "housing           41188 non-null object\n",
      "loan              41188 non-null object\n",
      "contact           41188 non-null object\n",
      "month             41188 non-null object\n",
      "day_of_week       41188 non-null object\n",
      "duration          41188 non-null int64\n",
      "campaign          41188 non-null int64\n",
      "pdays             41188 non-null int64\n",
      "previous          41188 non-null int64\n",
      "poutcome          41188 non-null object\n",
      "emp.var.rate      41188 non-null float64\n",
      "cons.price.idx    41188 non-null float64\n",
      "cons.conf.idx     41188 non-null float64\n",
      "euribor3m         41188 non-null float64\n",
      "nr.employed       41188 non-null float64\n",
      "y                 41188 non-null object\n",
      "dtypes: float64(5), int64(5), object(11)\n",
      "memory usage: 6.6+ MB\n"
     ]
    }
   ],
   "source": [
    "# quick peek at the data and check missing values\n",
    "df.info()"
   ]
  },
  {
   "cell_type": "code",
   "execution_count": 4,
   "metadata": {},
   "outputs": [
    {
     "data": {
      "text/plain": [
       "age               0\n",
       "job               0\n",
       "marital           0\n",
       "education         0\n",
       "default           0\n",
       "housing           0\n",
       "loan              0\n",
       "contact           0\n",
       "month             0\n",
       "day_of_week       0\n",
       "duration          0\n",
       "campaign          0\n",
       "pdays             0\n",
       "previous          0\n",
       "poutcome          0\n",
       "emp.var.rate      0\n",
       "cons.price.idx    0\n",
       "cons.conf.idx     0\n",
       "euribor3m         0\n",
       "nr.employed       0\n",
       "y                 0\n",
       "dtype: int64"
      ]
     },
     "execution_count": 4,
     "metadata": {},
     "output_type": "execute_result"
    }
   ],
   "source": [
    "# check missing values\n",
    "df.isnull().sum()"
   ]
  },
  {
   "cell_type": "code",
   "execution_count": 5,
   "metadata": {},
   "outputs": [
    {
     "name": "stdout",
     "output_type": "stream",
     "text": [
      "(41176, 21)\n"
     ]
    }
   ],
   "source": [
    "# check and drop duplications\n",
    "df.drop_duplicates( keep='last',inplace=True)\n",
    "print(df.shape)"
   ]
  },
  {
   "cell_type": "code",
   "execution_count": 6,
   "metadata": {},
   "outputs": [
    {
     "name": "stdout",
     "output_type": "stream",
     "text": [
      "(41176, 19)\n"
     ]
    }
   ],
   "source": [
    "# drop unrelated attribute \"contact\", and attribute would lead potential data leakage: \"duration\"\n",
    "df=df.drop([\"duration\",\"contact\"],axis=1)\n",
    "print(df.shape)"
   ]
  },
  {
   "cell_type": "code",
   "execution_count": 7,
   "metadata": {},
   "outputs": [
    {
     "name": "stdout",
     "output_type": "stream",
     "text": [
      "admin.           10419\n",
      "blue-collar       9253\n",
      "technician        6739\n",
      "services          3967\n",
      "management        2924\n",
      "retired           1718\n",
      "entrepreneur      1456\n",
      "self-employed     1421\n",
      "housemaid         1060\n",
      "unemployed        1014\n",
      "student            875\n",
      "unknown            330\n",
      "Name: job, dtype: int64\n",
      "*************************\n",
      "married     24921\n",
      "single      11564\n",
      "divorced     4611\n",
      "unknown        80\n",
      "Name: marital, dtype: int64\n",
      "*************************\n",
      "university.degree      12164\n",
      "high.school             9512\n",
      "basic.9y                6045\n",
      "professional.course     5240\n",
      "basic.4y                4176\n",
      "basic.6y                2291\n",
      "unknown                 1730\n",
      "illiterate                18\n",
      "Name: education, dtype: int64\n",
      "*************************\n",
      "yes        21571\n",
      "no         18615\n",
      "unknown      990\n",
      "Name: housing, dtype: int64\n",
      "*************************\n",
      "no         33938\n",
      "yes         6248\n",
      "unknown      990\n",
      "Name: loan, dtype: int64\n",
      "*************************\n",
      "no         32577\n",
      "unknown     8596\n",
      "yes            3\n",
      "Name: default, dtype: int64\n"
     ]
    }
   ],
   "source": [
    "# check data distribution for customer related variables\n",
    "print(df[\"job\"].value_counts())\n",
    "print(\"*\"*25)\n",
    "print(df[\"marital\"].value_counts())\n",
    "print(\"*\"*25)\n",
    "print(df[\"education\"].value_counts())\n",
    "print(\"*\"*25)\n",
    "print(df[\"housing\"].value_counts())\n",
    "print(\"*\"*25)\n",
    "print(df[\"loan\"].value_counts())\n",
    "print(\"*\"*25)\n",
    "print(df[\"default\"].value_counts())"
   ]
  },
  {
   "cell_type": "code",
   "execution_count": 8,
   "metadata": {},
   "outputs": [
    {
     "name": "stdout",
     "output_type": "stream",
     "text": [
      "(30478, 19)\n"
     ]
    }
   ],
   "source": [
    "#drop values with \"unknown\"\n",
    "\n",
    "index = df[(df['job'] == 'unknown')| (df[\"marital\"]==\"unknown\") |(df[\"education\"]==\"unknown\")\n",
    "           |(df['housing'] == 'unknown')| (df[\"loan\"]==\"unknown\") |(df[\"default\"]==\"unknown\")].index\n",
    "\n",
    "df.drop(index,inplace=True)\n",
    "print(df.shape)"
   ]
  },
  {
   "cell_type": "code",
   "execution_count": 9,
   "metadata": {},
   "outputs": [],
   "source": [
    "# change column name, and values\n",
    "df.rename(index=str, columns={'y': 'response'}, inplace = True)\n",
    "\n",
    "# replace categorical value to numeric\n",
    "df[\"month\"].replace(['may', 'jun', 'jul', 'aug', 'oct', 'nov', 'dec', 'jan', 'feb','mar', 'apr', 'sep'] ,[5, 6, 7, 8,10,11,12,1,2,3,4,9],inplace=True)\n",
    "df[\"day_of_week\"].replace(['mon', 'tue', 'wed', 'thu', 'fri'],[1,2,3,4,5],inplace=True)\n",
    "\n",
    "# group education basic level toegther, and replace ordinal categorical value to numeric\n",
    "df[\"education\"].replace(['basic.9y', 'basic.6y', 'basic.4y'],[\"basic\",\"basic\",\"basic\"],inplace=True)\n",
    "df[\"education\"].replace([\"illiterate\",\"basic\",\"high.school\",\"university.degree\",\"professional.course\"],[0,1,2,3,4],inplace=True)"
   ]
  },
  {
   "cell_type": "markdown",
   "metadata": {},
   "source": [
    "## Exploratory Data Analysis"
   ]
  },
  {
   "cell_type": "markdown",
   "metadata": {},
   "source": [
    "### Distribution of numeric data"
   ]
  },
  {
   "cell_type": "code",
   "execution_count": 10,
   "metadata": {},
   "outputs": [],
   "source": [
    "import matplotlib.pyplot as plt\n",
    "import seaborn as sns"
   ]
  },
  {
   "cell_type": "code",
   "execution_count": 11,
   "metadata": {},
   "outputs": [
    {
     "data": {
      "image/png": "[encoded data removed]",
      "text/plain": [
       "<Figure size 1080x720 with 12 Axes>"
      ]
     },
     "metadata": {
      "needs_background": "light"
     },
     "output_type": "display_data"
    }
   ],
   "source": [
    "df.hist(figsize=(15,10))\n",
    "plt.show()"
   ]
  },
  {
   "cell_type": "markdown",
   "metadata": {},
   "source": [
    "insights:\n",
    "1. Most of the customers that this campaign reached out are in the age range of 30-40.\n",
    "2. The distribution of day_of_week is very average. \n",
    "3. Education level distribution seems normal. There are very few people that are illitrate.\n",
    "4. There seems to have more contacts with customers in certain monthes (May, July)\n",
    "5. pdays is the numer of days passed by after the client was last contacted from a previous campaign. 999 means client was not previously contected. Most of the customers are new to this campaign.\n",
    "6. previous is the number of contacts perfromed before this campaign and for this client. It seems most of the clients had no previous contacts.\n"
   ]
  },
  {
   "cell_type": "markdown",
   "metadata": {},
   "source": [
    "### Distribution of categorical data"
   ]
  },
  {
   "cell_type": "code",
   "execution_count": 12,
   "metadata": {},
   "outputs": [],
   "source": [
    "# function to show distribution with percentage\n",
    "def show_dist_col(column):\n",
    "    chart=sns.countplot(df[column])\n",
    "    chart.set_title(\"Distribution of \"+column)\n",
    "    chart.set_xticklabels(chart.get_xticklabels(),rotation=45)\n",
    "    total=float(len(df[column]))\n",
    "    for x in chart.patches:\n",
    "        height=x.get_height()\n",
    "        chart.text(x.get_x()+x.get_width()/2.,height+3,\"{:1.2f}\".format(height/total),ha=\"center\")\n",
    "    plt.show()"
   ]
  },
  {
   "cell_type": "code",
   "execution_count": 13,
   "metadata": {},
   "outputs": [
    {
     "data": {
      "image/png": "[encoded data removed]",
      "text/plain": [
       "<Figure size 432x288 with 1 Axes>"
      ]
     },
     "metadata": {
      "needs_background": "light"
     },
     "output_type": "display_data"
    }
   ],
   "source": [
    "show_dist_col(\"job\")"
   ]
  },
  {
   "cell_type": "code",
   "execution_count": 14,
   "metadata": {},
   "outputs": [
    {
     "data": {
      "image/png": "[encoded data removed]",
      "text/plain": [
       "<Figure size 432x288 with 1 Axes>"
      ]
     },
     "metadata": {
      "needs_background": "light"
     },
     "output_type": "display_data"
    }
   ],
   "source": [
    "show_dist_col(\"marital\")"
   ]
  },
  {
   "cell_type": "code",
   "execution_count": 15,
   "metadata": {},
   "outputs": [
    {
     "data": {
      "image/png": "[encoded data removed]",
      "text/plain": [
       "<Figure size 432x288 with 1 Axes>"
      ]
     },
     "metadata": {
      "needs_background": "light"
     },
     "output_type": "display_data"
    }
   ],
   "source": [
    "show_dist_col(\"default\")"
   ]
  },
  {
   "cell_type": "code",
   "execution_count": 16,
   "metadata": {},
   "outputs": [
    {
     "data": {
      "image/png": "[encoded data removed]",
      "text/plain": [
       "<Figure size 432x288 with 1 Axes>"
      ]
     },
     "metadata": {
      "needs_background": "light"
     },
     "output_type": "display_data"
    }
   ],
   "source": [
    "show_dist_col(\"housing\")"
   ]
  },
  {
   "cell_type": "code",
   "execution_count": 17,
   "metadata": {},
   "outputs": [
    {
     "data": {
      "image/png": "[encoded data removed]",
      "text/plain": [
       "<Figure size 432x288 with 1 Axes>"
      ]
     },
     "metadata": {
      "needs_background": "light"
     },
     "output_type": "display_data"
    }
   ],
   "source": [
    "show_dist_col(\"loan\")"
   ]
  },
  {
   "cell_type": "code",
   "execution_count": 18,
   "metadata": {},
   "outputs": [
    {
     "data": {
      "image/png": "[encoded data removed]",
      "text/plain": [
       "<Figure size 432x288 with 1 Axes>"
      ]
     },
     "metadata": {
      "needs_background": "light"
     },
     "output_type": "display_data"
    }
   ],
   "source": [
    "show_dist_col(\"poutcome\")"
   ]
  },
  {
   "cell_type": "markdown",
   "metadata": {},
   "source": [
    "insights:\n",
    "1. Most of customers have jobs as admin, blue-collar and technician.\n",
    "2. default variable contains very few records for category \"Yes\", maybe we could delete this feature.\n",
    "3. Majority of customers have a housing loan."
   ]
  },
  {
   "cell_type": "code",
   "execution_count": 19,
   "metadata": {},
   "outputs": [
    {
     "name": "stdout",
     "output_type": "stream",
     "text": [
      "no     30475\n",
      "yes        3\n",
      "Name: default, dtype: int64\n"
     ]
    }
   ],
   "source": [
    "print(df[\"default\"].value_counts())"
   ]
  },
  {
   "cell_type": "code",
   "execution_count": 20,
   "metadata": {},
   "outputs": [],
   "source": [
    "# drop attribute \"default\"\n",
    "df.drop(\"default\",axis=1,inplace=True)"
   ]
  },
  {
   "cell_type": "markdown",
   "metadata": {},
   "source": [
    "### Visualization of the Subscription & Contact per age group"
   ]
  },
  {
   "cell_type": "code",
   "execution_count": 21,
   "metadata": {},
   "outputs": [],
   "source": [
    "# create new age group\n",
    "for column in [df]:\n",
    "    column.loc[column[\"age\"] < 30,  'age_group'] = 20\n",
    "    column.loc[(column[\"age\"] >= 30) & (column[\"age\"] <= 39), 'age_group'] = 30\n",
    "    column.loc[(column[\"age\"] >= 40) & (column[\"age\"] <= 49), 'age_group'] = 40\n",
    "    column.loc[(column[\"age\"] >= 50) & (column[\"age\"] <= 59), 'age_group'] = 50\n",
    "    column.loc[column[\"age\"] >= 60, 'age_group'] = 60\n",
    "    \n",
    "count_age_response_pct = pd.crosstab(df['response'],df['age_group']).apply(lambda x: x/x.sum() * 100)\n",
    "count_age_response_pct = count_age_response_pct.transpose() \n",
    "age = pd.DataFrame(df['age_group'].value_counts())\n",
    "age['% Contacted'] = age['age_group']*100/age['age_group'].sum()\n",
    "age['% Subscription'] = count_age_response_pct[\"yes\"]\n",
    "age.drop('age_group',axis = 1,inplace = True)\n",
    "df.drop('age_group',axis = 1,inplace = True)\n",
    "age['age'] = [30,40,50,20,60]\n",
    "age = age.sort_values('age',ascending = True)"
   ]
  },
  {
   "cell_type": "code",
   "execution_count": 22,
   "metadata": {},
   "outputs": [
    {
     "data": {
      "image/png": "[encoded data removed]",
      "text/plain": [
       "<Figure size 576x432 with 1 Axes>"
      ]
     },
     "metadata": {
      "needs_background": "light"
     },
     "output_type": "display_data"
    }
   ],
   "source": [
    "plot_age = age[['% Subscription','% Contacted']].plot(kind = 'bar',\n",
    "                                              figsize=(8,6), color = ('green','blue'))\n",
    "\n",
    "plt.title('Subscription vs. Contact Rate by Age')\n",
    "plt.xlabel('Age Group')\n",
    "plt.ylabel('Subscription Rate')\n",
    "\n",
    "plt.xticks(np.arange(5), ('<30', '30-39', '40-49', '50-59', '60+'),rotation = 'horizontal')\n",
    "\n",
    "plt.show()"
   ]
  },
  {
   "cell_type": "markdown",
   "metadata": {},
   "source": [
    "insights: Target the youngest and the oldest group\n",
    "1. Green bar indicates age group 60+ has the highest subscription rate.\n",
    "2. However, blue bars show that the bank focused its marketing efforts on the middle-aged group."
   ]
  },
  {
   "cell_type": "markdown",
   "metadata": {},
   "source": [
    "### Visualization of the Subscription rate by job"
   ]
  },
  {
   "cell_type": "code",
   "execution_count": 23,
   "metadata": {},
   "outputs": [
    {
     "data": {
      "image/png": "[encoded data removed]",
      "text/plain": [
       "<Figure size 864x432 with 1 Axes>"
      ]
     },
     "metadata": {
      "needs_background": "light"
     },
     "output_type": "display_data"
    }
   ],
   "source": [
    "count_job_response_pct = pd.crosstab(df['response'],df['job']).apply(lambda x: x/x.sum() * 100)\n",
    "count_job_response_pct = count_job_response_pct.transpose()\n",
    "\n",
    "plot_job = count_job_response_pct[\"yes\"].sort_values(ascending = True).plot(kind ='barh',\n",
    "                                                                           figsize = (12,6))\n",
    "                                                                               \n",
    "plt.title('Subscription Rate by Job')\n",
    "plt.xlabel('Subscription Rate')\n",
    "plt.ylabel('Job')\n",
    "\n",
    "# Label each bar\n",
    "for rec, label in zip(plot_job.patches,\n",
    "                      count_job_response_pct[\"yes\"].sort_values(ascending = True).round(1).astype(str)):\n",
    "    plot_job.text(rec.get_width()+0.8, \n",
    "                  rec.get_y()+ rec.get_height()-0.5, \n",
    "                  label+'%', \n",
    "                  ha = 'center', \n",
    "                  va='bottom')"
   ]
  },
  {
   "cell_type": "markdown",
   "metadata": {},
   "source": [
    "insights: Target the students and retired customer group  \n",
    "consistent with the previous finding of higher subscription rates among the younger and older."
   ]
  },
  {
   "cell_type": "markdown",
   "metadata": {},
   "source": [
    "### Visualization of the Subscription rate by month"
   ]
  },
  {
   "cell_type": "code",
   "execution_count": 24,
   "metadata": {},
   "outputs": [
    {
     "data": {
      "image/png": "[encoded data removed]",
      "text/plain": [
       "<Figure size 720x432 with 1 Axes>"
      ]
     },
     "metadata": {
      "needs_background": "light"
     },
     "output_type": "display_data"
    }
   ],
   "source": [
    "count_month_response_pct = pd.crosstab(df['response'],df['month']).apply(lambda x: x/x.sum() * 100)\n",
    "count_month_response_pct = count_month_response_pct.transpose()\n",
    "month = pd.DataFrame(df['month'].value_counts())\n",
    "month['% Contacted'] = month['month']*100/month['month'].sum()\n",
    "month['% Subscription'] = count_month_response_pct[\"yes\"]\n",
    "month.drop('month',axis = 1,inplace = True)\n",
    "month['Month'] = [5,7,8,6,11,4,10,9,3,12]\n",
    "month = month.sort_values('Month',ascending = True)\n",
    "plot_month = month[['% Subscription','% Contacted']].plot(kind ='line',\n",
    "                                                          figsize = (10,6),\n",
    "                                                          marker = 'o')\n",
    "plt.title('Subscription vs. Contact Rate by Month')\n",
    "plt.ylabel('Subscription and Contact Rate')\n",
    "plt.xlabel('Month')\n",
    "ticks = np.arange(1,13,1)\n",
    "plt.xticks(ticks)\n",
    "\n",
    "# Annotation: peak of contact\n",
    "y = month['% Contacted'].max()\n",
    "x = month['% Contacted'].idxmax()\n",
    "plt.annotate('May: Peak of contact', xy=(x+0.1, y+0.1), xytext=(x+1,y+4), \n",
    "             arrowprops=dict(facecolor='black', headwidth=6, width=1, headlength=4), \n",
    "             horizontalalignment='left', verticalalignment='top')\n",
    "# Annotation: peak of subscription rate\n",
    "y = month['% Subscription'].max()\n",
    "x = month['% Subscription'].idxmax()\n",
    "plt.annotate('March: Peak Subscription rate', xy=(x+0.1, y+0.1),xytext=(x+1,y+1), \n",
    "             arrowprops=dict(facecolor='black', headwidth=6, width=1, headlength=4), \n",
    "             horizontalalignment='left', verticalalignment='top')\n",
    "\n",
    "plt.show()"
   ]
  },
  {
   "cell_type": "markdown",
   "metadata": {},
   "source": [
    "insights: call customers during spring and fall\n",
    "1. bank contacted most clients during late spring and summer (may-aug)\n",
    "2. however, subscription rate was higest during spring and fall"
   ]
  },
  {
   "cell_type": "markdown",
   "metadata": {},
   "source": [
    "## Classification Model"
   ]
  },
  {
   "cell_type": "markdown",
   "metadata": {},
   "source": [
    "### Data preprocessing"
   ]
  },
  {
   "cell_type": "code",
   "execution_count": 25,
   "metadata": {},
   "outputs": [],
   "source": [
    "from sklearn import preprocessing\n",
    "from sklearn.preprocessing import MinMaxScaler\n",
    "from sklearn.model_selection import train_test_split\n",
    "from imblearn.over_sampling import SMOTE\n",
    "from collections import Counter"
   ]
  },
  {
   "cell_type": "code",
   "execution_count": 26,
   "metadata": {
    "scrolled": true
   },
   "outputs": [
    {
     "data": {
      "text/html": [
       "<div>\n",
       "<style scoped>\n",
       "    .dataframe tbody tr th:only-of-type {\n",
       "        vertical-align: middle;\n",
       "    }\n",
       "\n",
       "    .dataframe tbody tr th {\n",
       "        vertical-align: top;\n",
       "    }\n",
       "\n",
       "    .dataframe thead th {\n",
       "        text-align: right;\n",
       "    }\n",
       "</style>\n",
       "<table border=\"1\" class=\"dataframe\">\n",
       "  <thead>\n",
       "    <tr style=\"text-align: right;\">\n",
       "      <th></th>\n",
       "      <th>age</th>\n",
       "      <th>job</th>\n",
       "      <th>marital</th>\n",
       "      <th>education</th>\n",
       "      <th>housing</th>\n",
       "      <th>loan</th>\n",
       "      <th>month</th>\n",
       "      <th>day_of_week</th>\n",
       "      <th>campaign</th>\n",
       "      <th>pdays</th>\n",
       "      <th>previous</th>\n",
       "      <th>poutcome</th>\n",
       "      <th>emp.var.rate</th>\n",
       "      <th>cons.price.idx</th>\n",
       "      <th>cons.conf.idx</th>\n",
       "      <th>euribor3m</th>\n",
       "      <th>nr.employed</th>\n",
       "      <th>response</th>\n",
       "    </tr>\n",
       "  </thead>\n",
       "  <tbody>\n",
       "    <tr>\n",
       "      <td>0</td>\n",
       "      <td>56</td>\n",
       "      <td>housemaid</td>\n",
       "      <td>married</td>\n",
       "      <td>1</td>\n",
       "      <td>no</td>\n",
       "      <td>no</td>\n",
       "      <td>5</td>\n",
       "      <td>1</td>\n",
       "      <td>1</td>\n",
       "      <td>999</td>\n",
       "      <td>0</td>\n",
       "      <td>nonexistent</td>\n",
       "      <td>1.1</td>\n",
       "      <td>93.994</td>\n",
       "      <td>-36.4</td>\n",
       "      <td>4.857</td>\n",
       "      <td>5191.0</td>\n",
       "      <td>no</td>\n",
       "    </tr>\n",
       "    <tr>\n",
       "      <td>2</td>\n",
       "      <td>37</td>\n",
       "      <td>services</td>\n",
       "      <td>married</td>\n",
       "      <td>2</td>\n",
       "      <td>yes</td>\n",
       "      <td>no</td>\n",
       "      <td>5</td>\n",
       "      <td>1</td>\n",
       "      <td>1</td>\n",
       "      <td>999</td>\n",
       "      <td>0</td>\n",
       "      <td>nonexistent</td>\n",
       "      <td>1.1</td>\n",
       "      <td>93.994</td>\n",
       "      <td>-36.4</td>\n",
       "      <td>4.857</td>\n",
       "      <td>5191.0</td>\n",
       "      <td>no</td>\n",
       "    </tr>\n",
       "    <tr>\n",
       "      <td>3</td>\n",
       "      <td>40</td>\n",
       "      <td>admin.</td>\n",
       "      <td>married</td>\n",
       "      <td>1</td>\n",
       "      <td>no</td>\n",
       "      <td>no</td>\n",
       "      <td>5</td>\n",
       "      <td>1</td>\n",
       "      <td>1</td>\n",
       "      <td>999</td>\n",
       "      <td>0</td>\n",
       "      <td>nonexistent</td>\n",
       "      <td>1.1</td>\n",
       "      <td>93.994</td>\n",
       "      <td>-36.4</td>\n",
       "      <td>4.857</td>\n",
       "      <td>5191.0</td>\n",
       "      <td>no</td>\n",
       "    </tr>\n",
       "    <tr>\n",
       "      <td>4</td>\n",
       "      <td>56</td>\n",
       "      <td>services</td>\n",
       "      <td>married</td>\n",
       "      <td>2</td>\n",
       "      <td>no</td>\n",
       "      <td>yes</td>\n",
       "      <td>5</td>\n",
       "      <td>1</td>\n",
       "      <td>1</td>\n",
       "      <td>999</td>\n",
       "      <td>0</td>\n",
       "      <td>nonexistent</td>\n",
       "      <td>1.1</td>\n",
       "      <td>93.994</td>\n",
       "      <td>-36.4</td>\n",
       "      <td>4.857</td>\n",
       "      <td>5191.0</td>\n",
       "      <td>no</td>\n",
       "    </tr>\n",
       "    <tr>\n",
       "      <td>6</td>\n",
       "      <td>59</td>\n",
       "      <td>admin.</td>\n",
       "      <td>married</td>\n",
       "      <td>4</td>\n",
       "      <td>no</td>\n",
       "      <td>no</td>\n",
       "      <td>5</td>\n",
       "      <td>1</td>\n",
       "      <td>1</td>\n",
       "      <td>999</td>\n",
       "      <td>0</td>\n",
       "      <td>nonexistent</td>\n",
       "      <td>1.1</td>\n",
       "      <td>93.994</td>\n",
       "      <td>-36.4</td>\n",
       "      <td>4.857</td>\n",
       "      <td>5191.0</td>\n",
       "      <td>no</td>\n",
       "    </tr>\n",
       "  </tbody>\n",
       "</table>\n",
       "</div>"
      ],
      "text/plain": [
       "   age        job  marital  education housing loan  month  day_of_week  \\\n",
       "0   56  housemaid  married          1      no   no      5            1   \n",
       "2   37   services  married          2     yes   no      5            1   \n",
       "3   40     admin.  married          1      no   no      5            1   \n",
       "4   56   services  married          2      no  yes      5            1   \n",
       "6   59     admin.  married          4      no   no      5            1   \n",
       "\n",
       "   campaign  pdays  previous     poutcome  emp.var.rate  cons.price.idx  \\\n",
       "0         1    999         0  nonexistent           1.1          93.994   \n",
       "2         1    999         0  nonexistent           1.1          93.994   \n",
       "3         1    999         0  nonexistent           1.1          93.994   \n",
       "4         1    999         0  nonexistent           1.1          93.994   \n",
       "6         1    999         0  nonexistent           1.1          93.994   \n",
       "\n",
       "   cons.conf.idx  euribor3m  nr.employed response  \n",
       "0          -36.4      4.857       5191.0       no  \n",
       "2          -36.4      4.857       5191.0       no  \n",
       "3          -36.4      4.857       5191.0       no  \n",
       "4          -36.4      4.857       5191.0       no  \n",
       "6          -36.4      4.857       5191.0       no  "
      ]
     },
     "execution_count": 26,
     "metadata": {},
     "output_type": "execute_result"
    }
   ],
   "source": [
    "# we have already checked missing value, duplicated rows, did simple transformation for the dataframe\n",
    "df.head()"
   ]
  },
  {
   "cell_type": "code",
   "execution_count": 27,
   "metadata": {},
   "outputs": [
    {
     "data": {
      "text/plain": [
       "(30478, 32)"
      ]
     },
     "execution_count": 27,
     "metadata": {},
     "output_type": "execute_result"
    }
   ],
   "source": [
    "# transform yes/no into 1/0\n",
    "df_new=df\n",
    "df_new[\"housing\"]=df_new[\"housing\"].map({'yes': 1, 'no': 0})\n",
    "df_new[\"loan\"]=df_new[\"loan\"].map({'yes': 1, 'no': 0})\n",
    "df_new[\"response\"]=df_new[\"response\"].map({'yes': 1, 'no': 0})\n",
    "# transform categorical data into dummy variables \n",
    "df_new=pd.get_dummies(df_new, columns=[\"job\", \"marital\",\"poutcome\"])\n",
    "df_new.shape"
   ]
  },
  {
   "cell_type": "code",
   "execution_count": 28,
   "metadata": {},
   "outputs": [
    {
     "name": "stdout",
     "output_type": "stream",
     "text": [
      "0    26620\n",
      "1     3858\n",
      "Name: response, dtype: int64\n"
     ]
    }
   ],
   "source": [
    "# we have an imbalanced dataset\n",
    "print(df_new[\"response\"].value_counts())"
   ]
  },
  {
   "cell_type": "code",
   "execution_count": 29,
   "metadata": {},
   "outputs": [
    {
     "data": {
      "text/plain": [
       "Counter({0: 12777, 1: 1851})"
      ]
     },
     "execution_count": 29,
     "metadata": {},
     "output_type": "execute_result"
    }
   ],
   "source": [
    "# split the dataset before applying SMOTE\n",
    "x_rest,x_test,y_rest,y_test, =train_test_split(df_new.drop([\"response\"],axis=1),df_new[\"response\"]\n",
    "                                                 ,test_size=.4,random_state=12)\n",
    "x_train,x_cv,y_train,y_cv=train_test_split(x_rest,y_rest ,test_size=.2,random_state=12)\n",
    "\n",
    "Counter(y_train)"
   ]
  },
  {
   "cell_type": "code",
   "execution_count": 30,
   "metadata": {},
   "outputs": [
    {
     "data": {
      "text/plain": [
       "Counter({0: 12777, 1: 12777})"
      ]
     },
     "execution_count": 30,
     "metadata": {},
     "output_type": "execute_result"
    }
   ],
   "source": [
    "# apply SMOTE upsampling the training dataset\n",
    "sm = SMOTE(random_state=12, sampling_strategy = 1)\n",
    "x_train_smote, y_train_smote = sm.fit_sample(x_train, y_train)\n",
    "Counter(y_train_smote)"
   ]
  },
  {
   "cell_type": "code",
   "execution_count": 31,
   "metadata": {},
   "outputs": [],
   "source": [
    "# scale all input variables (training & testing dataset)\n",
    "min_max_scaler = preprocessing.MinMaxScaler()\n",
    "x_train_minmax = pd.DataFrame( min_max_scaler.fit_transform(x_train_smote.values), \n",
    "                              columns=x_train_smote.columns, index=x_train_smote.index)\n",
    "x_cv_minmax = pd.DataFrame( min_max_scaler.fit_transform(x_cv.values), \n",
    "                              columns=x_cv.columns, index=x_cv.index)\n",
    "x_test_minmax = pd.DataFrame( min_max_scaler.fit_transform(x_test.values), \n",
    "                              columns=x_test.columns, index=x_test.index)"
   ]
  },
  {
   "cell_type": "markdown",
   "metadata": {},
   "source": [
    "### Model building\n",
    "1. Baseline model: create a simple LogisticRegression model without any hyper-parameter tuning and apply that to the data\n",
    "2. Evaluation Matrics: AUC score\n",
    "3. Select models for parameter tuning\n",
    "4. Select final model\n",
    "5. implementation"
   ]
  },
  {
   "cell_type": "code",
   "execution_count": 32,
   "metadata": {},
   "outputs": [],
   "source": [
    "from sklearn.linear_model import LogisticRegression\n",
    "from sklearn.discriminant_analysis import LinearDiscriminantAnalysis\n",
    "from sklearn.tree import DecisionTreeClassifier\n",
    "from sklearn.svm import SVC\n",
    "from sklearn.naive_bayes import GaussianNB\n",
    "from sklearn.neighbors import KNeighborsClassifier\n",
    "from sklearn.model_selection import StratifiedKFold\n",
    "from sklearn.model_selection import cross_val_score\n",
    "from sklearn.model_selection import GridSearchCV\n",
    "from sklearn.metrics import accuracy_score\n",
    "from sklearn.metrics import confusion_matrix\n",
    "from sklearn.metrics import classification_report\n",
    "from sklearn.feature_selection import RFE\n",
    "from sklearn.metrics import roc_auc_score\n",
    "from sklearn.calibration import CalibratedClassifierCV"
   ]
  },
  {
   "cell_type": "code",
   "execution_count": 33,
   "metadata": {},
   "outputs": [
    {
     "name": "stdout",
     "output_type": "stream",
     "text": [
      "LR: 0.941280 (0.005888)\n",
      "LDA: 0.936003 (0.004859)\n",
      "CART: 0.895311 (0.004646)\n",
      "NB: 0.855842 (0.005439)\n",
      "KNN: 0.948289 (0.003760)\n",
      "SVM: 0.927792 (0.009340)\n"
     ]
    }
   ],
   "source": [
    "# Spot Check Algorithms with scaled SMOTE Training Dataset\n",
    "models = []\n",
    "models.append(('LR', LogisticRegression()))\n",
    "models.append(('LDA', LinearDiscriminantAnalysis()))\n",
    "models.append(('CART', DecisionTreeClassifier()))\n",
    "models.append(('NB', GaussianNB()))\n",
    "models.append(('KNN', KNeighborsClassifier()))\n",
    "models.append(('SVM', SVC()))\n",
    "# evaluate each model in turn\n",
    "results = []\n",
    "names = []\n",
    "for name, model in models:\n",
    "    kfold = StratifiedKFold(n_splits=10, random_state=1, shuffle=True)\n",
    "    cv_results = cross_val_score(model, x_train_minmax, y_train_smote, cv=kfold, scoring='roc_auc')\n",
    "    results.append(cv_results)\n",
    "    names.append(name)\n",
    "    print('%s: %f (%f)' % (name, cv_results.mean(), cv_results.std()))"
   ]
  },
  {
   "cell_type": "code",
   "execution_count": 34,
   "metadata": {},
   "outputs": [
    {
     "data": {
      "image/png": "[encoded data removed]",
      "text/plain": [
       "<Figure size 432x288 with 1 Axes>"
      ]
     },
     "metadata": {
      "needs_background": "light"
     },
     "output_type": "display_data"
    }
   ],
   "source": [
    "# Logistic regression model and KNN perfrom slightly better than others\n",
    "fig = plt.figure()\n",
    "fig.suptitle('AUC score of Classification Algorithms')\n",
    "ax = fig.add_subplot(111)\n",
    "plt.boxplot(results)\n",
    "ax.set_xticklabels(names)\n",
    "plt.show()"
   ]
  },
  {
   "cell_type": "code",
   "execution_count": 74,
   "metadata": {},
   "outputs": [
    {
     "name": "stdout",
     "output_type": "stream",
     "text": [
      "Accuracy of baseline logistic regression classifier on test set: 0.87\n",
      "AUC score of baseline logistic regression classifier on test set: 0.66\n"
     ]
    }
   ],
   "source": [
    "baseline_model = LogisticRegression()\n",
    "baseline_model.fit(x_train_minmax, y_train_smote)\n",
    "base_pred = baseline_model.predict(x_test_minmax)\n",
    "print('Accuracy of baseline logistic regression classifier on test set: {:.2f}'\n",
    "      .format(baseline_model.score(x_test_minmax, y_test)))\n",
    "print('AUC score of baseline logistic regression classifier on test set: {:.2f}'\n",
    "      .format(roc_auc_score(y_test,base_pred)))"
   ]
  },
  {
   "cell_type": "markdown",
   "metadata": {},
   "source": [
    "### KNN"
   ]
  },
  {
   "cell_type": "code",
   "execution_count": 35,
   "metadata": {},
   "outputs": [
    {
     "name": "stdout",
     "output_type": "stream",
     "text": [
      "AUC for k=  1 is 0.6456115359876612\n",
      "AUC for k=  3 is 0.6927438718433131\n",
      "AUC for k=  5 is 0.6966842791186365\n",
      "AUC for k=  7 is 0.711242671300459\n",
      "AUC for k=  9 is 0.7148604642548047\n",
      "AUC for k=  11 is 0.719946522803579\n",
      "AUC for k=  13 is 0.7269662467292364\n",
      "AUC for k=  15 is 0.7320017915534318\n"
     ]
    },
    {
     "data": {
      "image/png": "[encoded data removed]",
      "text/plain": [
       "<Figure size 432x288 with 1 Axes>"
      ]
     },
     "metadata": {
      "needs_background": "light"
     },
     "output_type": "display_data"
    }
   ],
   "source": [
    "alpha = [x for x in range(1,17,2)]\n",
    "cv_auc_array=[]\n",
    "for i in alpha:\n",
    "    k_cfl=KNeighborsClassifier(n_neighbors=i)\n",
    "    k_cfl.fit(x_train_minmax,y_train_smote)\n",
    "    sig_clf = CalibratedClassifierCV(k_cfl, method=\"sigmoid\")\n",
    "    sig_clf.fit(x_train_minmax,y_train_smote)\n",
    "    predict_y = sig_clf.predict_proba(x_cv_minmax)\n",
    "    cv_auc_array.append(roc_auc_score(y_cv, predict_y[:,1])) \n",
    "    \n",
    "for i in range(len(cv_auc_array)):\n",
    "    print(\"AUC for k= \", alpha[i], \"is\", cv_auc_array[i])\n",
    "\n",
    "fig, ax = plt.subplots()\n",
    "ax.plot(alpha, cv_auc_array,c='g')\n",
    "for i, txt in enumerate(np.round(cv_auc_array,3)):\n",
    "    ax.annotate((alpha[i],np.round(txt,3)), (alpha[i],cv_auc_array[i]))\n",
    "plt.grid()\n",
    "plt.title(\"Cross Validation Error for each alpha\")\n",
    "plt.xlabel(\"Alpha i's\")\n",
    "plt.ylabel(\"Error measure\")\n",
    "plt.show()"
   ]
  },
  {
   "cell_type": "code",
   "execution_count": 37,
   "metadata": {},
   "outputs": [
    {
     "name": "stdout",
     "output_type": "stream",
     "text": [
      "For values of best alpha = 15 The train AUC is: 0.962809101397021\n",
      "For values of best alpha = 15 The cross validation AUC is: 0.7320017915534318\n",
      "For values of best alpha = 15 The test AUC is: 0.7330257941944796\n"
     ]
    }
   ],
   "source": [
    "k_cfl=KNeighborsClassifier(n_neighbors=15)\n",
    "k_cfl.fit(x_train_minmax,y_train_smote)\n",
    "sig_clf = CalibratedClassifierCV(k_cfl, method=\"sigmoid\")\n",
    "sig_clf.fit(x_train_minmax,y_train_smote)\n",
    "    \n",
    "predict_y = sig_clf.predict_proba(x_train_minmax)\n",
    "print ('For values of best alpha = 15', \"The train AUC is:\",roc_auc_score(y_train_smote, predict_y[:,1]))\n",
    "predict_y = sig_clf.predict_proba(x_cv_minmax)\n",
    "print('For values of best alpha = 15', \"The cross validation AUC is:\",roc_auc_score(y_cv, predict_y[:,1]))\n",
    "predict_y = sig_clf.predict_proba(x_test_minmax)\n",
    "print('For values of best alpha = 15', \"The test AUC is:\",roc_auc_score(y_test, predict_y[:,1]))"
   ]
  },
  {
   "cell_type": "markdown",
   "metadata": {},
   "source": [
    "### Logistic Regression"
   ]
  },
  {
   "cell_type": "code",
   "execution_count": 80,
   "metadata": {},
   "outputs": [
    {
     "name": "stdout",
     "output_type": "stream",
     "text": [
      "AUC for k =  1e-05 is 0.761754375330444\n",
      "AUC for k =  0.0001 is 0.7629976864714143\n",
      "AUC for k =  0.001 is 0.7662056447403427\n",
      "AUC for k =  0.01 is 0.7608646602615264\n",
      "AUC for k =  0.1 is 0.7580951611219435\n",
      "AUC for k =  1 is 0.7595189746387426\n",
      "AUC for k =  10 is 0.7595923879184642\n",
      "AUC for k =  100 is 0.7597378674452515\n",
      "AUC for k =  1000 is 0.7600510525376412\n"
     ]
    },
    {
     "data": {
      "image/png": "[encoded data removed]",
      "text/plain": [
       "<Figure size 432x288 with 1 Axes>"
      ]
     },
     "metadata": {
      "needs_background": "light"
     },
     "output_type": "display_data"
    }
   ],
   "source": [
    "%matplotlib inline\n",
    "\n",
    "alpha = [10 ** x for x in range(-5, 4)]\n",
    "cv_auc_array=[]\n",
    "for i in alpha:\n",
    "    logisticR=LogisticRegression(penalty='l2',C=i)\n",
    "    logisticR.fit(x_train_minmax,y_train_smote)\n",
    "    sig_clf = CalibratedClassifierCV(logisticR, method=\"sigmoid\",class_weight='balanced')\n",
    "    sig_clf.fit(x_train_minmax,y_train_smote)\n",
    "    predict_y = sig_clf.predict_proba(x_cv_minmax)\n",
    "    cv_auc_array.append(roc_auc_score(y_cv, predict_y[:,1]))\n",
    "    \n",
    "for i in range(len(cv_auc_array)):\n",
    "    print ('AUC for k = ',alpha[i],'is',cv_auc_array[i])\n",
    "    \n",
    "fig, ax = plt.subplots()\n",
    "ax.plot(alpha, cv_auc_array,c='g')\n",
    "for i, txt in enumerate(np.round(cv_auc_array,3)):\n",
    "    ax.annotate((alpha[i],np.round(txt,3)), (alpha[i],cv_auc_array[i]))\n",
    "plt.grid()\n",
    "plt.title(\"Cross Validation Error for each alpha\")\n",
    "plt.xlabel(\"Alpha i's\")\n",
    "plt.ylabel(\"Error measure\")\n",
    "plt.show()"
   ]
  },
  {
   "cell_type": "code",
   "execution_count": 81,
   "metadata": {},
   "outputs": [
    {
     "name": "stdout",
     "output_type": "stream",
     "text": [
      "For values of best alpha = 15 The train AUC is: 0.8668660991639483\n",
      "For values of best alpha = 15 The cross validation AUC is: 0.7662056447403427\n",
      "For values of best alpha = 15 The test AUC is: 0.7572087953575322\n"
     ]
    }
   ],
   "source": [
    "logisticR=LogisticRegression(penalty='l2',C=0.001,class_weight='balanced')\n",
    "logisticR.fit(x_train_minmax,y_train_smote)\n",
    "sig_clf = CalibratedClassifierCV(logisticR, method=\"sigmoid\")\n",
    "sig_clf.fit(x_train_minmax,y_train_smote)\n",
    "    \n",
    "predict_y = sig_clf.predict_proba(x_train_minmax)\n",
    "print ('For values of best alpha = 15', \"The train AUC is:\",roc_auc_score(y_train_smote, predict_y[:,1]))\n",
    "predict_y = sig_clf.predict_proba(x_cv_minmax)\n",
    "print('For values of best alpha = 15', \"The cross validation AUC is:\",roc_auc_score(y_cv, predict_y[:,1]))\n",
    "predict_y = sig_clf.predict_proba(x_test_minmax)\n",
    "print('For values of best alpha = 15', \"The test AUC is:\",roc_auc_score(y_test, predict_y[:,1]))"
   ]
  },
  {
   "cell_type": "markdown",
   "metadata": {},
   "source": [
    "## Implementing the model"
   ]
  },
  {
   "cell_type": "code",
   "execution_count": 108,
   "metadata": {},
   "outputs": [],
   "source": [
    "from sklearn.metrics import confusion_matrix\n",
    "from sklearn.metrics import classification_report\n",
    "from sklearn.feature_selection import SelectFromModel\n",
    "from sklearn.metrics import roc_curve"
   ]
  },
  {
   "cell_type": "markdown",
   "metadata": {},
   "source": [
    "### Fitting the model with the best performance"
   ]
  },
  {
   "cell_type": "code",
   "execution_count": 103,
   "metadata": {},
   "outputs": [
    {
     "data": {
      "text/plain": [
       "LogisticRegression(C=0.001, class_weight='balanced')"
      ]
     },
     "execution_count": 103,
     "metadata": {},
     "output_type": "execute_result"
    }
   ],
   "source": [
    "# Model fitting\n",
    "final_model = LogisticRegression(C=0.001,class_weight='balanced',penalty=\"l2\")\n",
    "final_model.fit(x_train_minmax, y_train_smote)"
   ]
  },
  {
   "cell_type": "code",
   "execution_count": 92,
   "metadata": {},
   "outputs": [],
   "source": [
    "coef_table = pd.DataFrame(list(x_train_minmax.columns)).copy()\n",
    "coef_table.insert(len(coef_table.columns),\"Coefs\",final_model.coef_.transpose())"
   ]
  },
  {
   "cell_type": "code",
   "execution_count": 93,
   "metadata": {},
   "outputs": [
    {
     "data": {
      "text/html": [
       "<div>\n",
       "<style scoped>\n",
       "    .dataframe tbody tr th:only-of-type {\n",
       "        vertical-align: middle;\n",
       "    }\n",
       "\n",
       "    .dataframe tbody tr th {\n",
       "        vertical-align: top;\n",
       "    }\n",
       "\n",
       "    .dataframe thead th {\n",
       "        text-align: right;\n",
       "    }\n",
       "</style>\n",
       "<table border=\"1\" class=\"dataframe\">\n",
       "  <thead>\n",
       "    <tr style=\"text-align: right;\">\n",
       "      <th></th>\n",
       "      <th>0</th>\n",
       "      <th>Coefs</th>\n",
       "    </tr>\n",
       "  </thead>\n",
       "  <tbody>\n",
       "    <tr>\n",
       "      <td>0</td>\n",
       "      <td>age</td>\n",
       "      <td>0.018402</td>\n",
       "    </tr>\n",
       "    <tr>\n",
       "      <td>1</td>\n",
       "      <td>education</td>\n",
       "      <td>-0.094919</td>\n",
       "    </tr>\n",
       "    <tr>\n",
       "      <td>2</td>\n",
       "      <td>housing</td>\n",
       "      <td>-0.372528</td>\n",
       "    </tr>\n",
       "    <tr>\n",
       "      <td>3</td>\n",
       "      <td>loan</td>\n",
       "      <td>-0.317736</td>\n",
       "    </tr>\n",
       "    <tr>\n",
       "      <td>4</td>\n",
       "      <td>month</td>\n",
       "      <td>0.012403</td>\n",
       "    </tr>\n",
       "    <tr>\n",
       "      <td>5</td>\n",
       "      <td>day_of_week</td>\n",
       "      <td>-0.139115</td>\n",
       "    </tr>\n",
       "    <tr>\n",
       "      <td>6</td>\n",
       "      <td>campaign</td>\n",
       "      <td>-0.064660</td>\n",
       "    </tr>\n",
       "    <tr>\n",
       "      <td>7</td>\n",
       "      <td>pdays</td>\n",
       "      <td>-0.298650</td>\n",
       "    </tr>\n",
       "    <tr>\n",
       "      <td>8</td>\n",
       "      <td>previous</td>\n",
       "      <td>0.000320</td>\n",
       "    </tr>\n",
       "    <tr>\n",
       "      <td>9</td>\n",
       "      <td>emp.var.rate</td>\n",
       "      <td>-0.470687</td>\n",
       "    </tr>\n",
       "    <tr>\n",
       "      <td>10</td>\n",
       "      <td>cons.price.idx</td>\n",
       "      <td>-0.069871</td>\n",
       "    </tr>\n",
       "    <tr>\n",
       "      <td>11</td>\n",
       "      <td>cons.conf.idx</td>\n",
       "      <td>0.074674</td>\n",
       "    </tr>\n",
       "    <tr>\n",
       "      <td>12</td>\n",
       "      <td>euribor3m</td>\n",
       "      <td>-0.584393</td>\n",
       "    </tr>\n",
       "    <tr>\n",
       "      <td>13</td>\n",
       "      <td>nr.employed</td>\n",
       "      <td>-0.514286</td>\n",
       "    </tr>\n",
       "    <tr>\n",
       "      <td>14</td>\n",
       "      <td>job_admin.</td>\n",
       "      <td>-0.347964</td>\n",
       "    </tr>\n",
       "    <tr>\n",
       "      <td>15</td>\n",
       "      <td>job_blue-collar</td>\n",
       "      <td>-0.476527</td>\n",
       "    </tr>\n",
       "    <tr>\n",
       "      <td>16</td>\n",
       "      <td>job_entrepreneur</td>\n",
       "      <td>-0.158413</td>\n",
       "    </tr>\n",
       "    <tr>\n",
       "      <td>17</td>\n",
       "      <td>job_housemaid</td>\n",
       "      <td>-0.086565</td>\n",
       "    </tr>\n",
       "    <tr>\n",
       "      <td>18</td>\n",
       "      <td>job_management</td>\n",
       "      <td>-0.251051</td>\n",
       "    </tr>\n",
       "    <tr>\n",
       "      <td>19</td>\n",
       "      <td>job_retired</td>\n",
       "      <td>0.032403</td>\n",
       "    </tr>\n",
       "    <tr>\n",
       "      <td>20</td>\n",
       "      <td>job_self-employed</td>\n",
       "      <td>-0.150173</td>\n",
       "    </tr>\n",
       "    <tr>\n",
       "      <td>21</td>\n",
       "      <td>job_services</td>\n",
       "      <td>-0.348028</td>\n",
       "    </tr>\n",
       "    <tr>\n",
       "      <td>22</td>\n",
       "      <td>job_student</td>\n",
       "      <td>-0.038471</td>\n",
       "    </tr>\n",
       "    <tr>\n",
       "      <td>23</td>\n",
       "      <td>job_technician</td>\n",
       "      <td>-0.378015</td>\n",
       "    </tr>\n",
       "    <tr>\n",
       "      <td>24</td>\n",
       "      <td>job_unemployed</td>\n",
       "      <td>-0.099545</td>\n",
       "    </tr>\n",
       "    <tr>\n",
       "      <td>25</td>\n",
       "      <td>marital_divorced</td>\n",
       "      <td>-0.383455</td>\n",
       "    </tr>\n",
       "    <tr>\n",
       "      <td>26</td>\n",
       "      <td>marital_married</td>\n",
       "      <td>-0.488037</td>\n",
       "    </tr>\n",
       "    <tr>\n",
       "      <td>27</td>\n",
       "      <td>marital_single</td>\n",
       "      <td>-0.325260</td>\n",
       "    </tr>\n",
       "    <tr>\n",
       "      <td>28</td>\n",
       "      <td>poutcome_failure</td>\n",
       "      <td>-0.399302</td>\n",
       "    </tr>\n",
       "    <tr>\n",
       "      <td>29</td>\n",
       "      <td>poutcome_nonexistent</td>\n",
       "      <td>-0.291326</td>\n",
       "    </tr>\n",
       "    <tr>\n",
       "      <td>30</td>\n",
       "      <td>poutcome_success</td>\n",
       "      <td>0.256075</td>\n",
       "    </tr>\n",
       "  </tbody>\n",
       "</table>\n",
       "</div>"
      ],
      "text/plain": [
       "                       0     Coefs\n",
       "0                    age  0.018402\n",
       "1              education -0.094919\n",
       "2                housing -0.372528\n",
       "3                   loan -0.317736\n",
       "4                  month  0.012403\n",
       "5            day_of_week -0.139115\n",
       "6               campaign -0.064660\n",
       "7                  pdays -0.298650\n",
       "8               previous  0.000320\n",
       "9           emp.var.rate -0.470687\n",
       "10        cons.price.idx -0.069871\n",
       "11         cons.conf.idx  0.074674\n",
       "12             euribor3m -0.584393\n",
       "13           nr.employed -0.514286\n",
       "14            job_admin. -0.347964\n",
       "15       job_blue-collar -0.476527\n",
       "16      job_entrepreneur -0.158413\n",
       "17         job_housemaid -0.086565\n",
       "18        job_management -0.251051\n",
       "19           job_retired  0.032403\n",
       "20     job_self-employed -0.150173\n",
       "21          job_services -0.348028\n",
       "22           job_student -0.038471\n",
       "23        job_technician -0.378015\n",
       "24        job_unemployed -0.099545\n",
       "25      marital_divorced -0.383455\n",
       "26       marital_married -0.488037\n",
       "27        marital_single -0.325260\n",
       "28      poutcome_failure -0.399302\n",
       "29  poutcome_nonexistent -0.291326\n",
       "30      poutcome_success  0.256075"
      ]
     },
     "execution_count": 93,
     "metadata": {},
     "output_type": "execute_result"
    }
   ],
   "source": [
    "coef_table"
   ]
  },
  {
   "cell_type": "markdown",
   "metadata": {},
   "source": [
    "### Evaluation Matrics"
   ]
  },
  {
   "cell_type": "code",
   "execution_count": 105,
   "metadata": {},
   "outputs": [
    {
     "name": "stdout",
     "output_type": "stream",
     "text": [
      "Accuracy of logistic regression classifier on test set: 0.78\n",
      "AUC score of logistic regression classifier on test set: 0.71\n",
      "              precision    recall  f1-score   support\n",
      "\n",
      "           0       0.94      0.80      0.86     10650\n",
      "           1       0.31      0.62      0.41      1542\n",
      "\n",
      "    accuracy                           0.78     12192\n",
      "   macro avg       0.62      0.71      0.64     12192\n",
      "weighted avg       0.86      0.78      0.81     12192\n",
      "\n"
     ]
    }
   ],
   "source": [
    "# predict the test result and calculating the accuracy\n",
    "y_pred = final_model.predict(x_test_minmax)\n",
    "print('Accuracy of logistic regression classifier on test set: {:.2f}'\n",
    "      .format(final_model.score(x_test_minmax, y_test)))\n",
    "print('AUC score of logistic regression classifier on test set: {:.2f}'\n",
    "      .format(roc_auc_score(y_test,y_pred)))\n",
    "\n",
    "# get precision and recal\n",
    "print(classification_report(y_test, y_pred))"
   ]
  },
  {
   "cell_type": "code",
   "execution_count": 109,
   "metadata": {},
   "outputs": [
    {
     "data": {
      "image/png": "[encoded data removed]",
      "text/plain": [
       "<Figure size 432x288 with 1 Axes>"
      ]
     },
     "metadata": {
      "needs_background": "light"
     },
     "output_type": "display_data"
    }
   ],
   "source": [
    "logit_roc_auc = roc_auc_score(y_test, y_pred)\n",
    "fpr, tpr, thresholds = roc_curve(y_test, final_model.predict_proba(x_test_minmax)[:,1])\n",
    "plt.figure()\n",
    "plt.plot(fpr, tpr, label='Logistic Regression (area = %0.2f)' % logit_roc_auc)\n",
    "plt.plot([0, 1], [0, 1],'r--')\n",
    "plt.xlim([0.0, 1.0])\n",
    "plt.ylim([0.0, 1.05])\n",
    "plt.xlabel('False Positive Rate')\n",
    "plt.ylabel('True Positive Rate')\n",
    "plt.title('Receiver operating characteristic')\n",
    "plt.legend(loc=\"lower right\")\n",
    "plt.savefig('Log_ROC')\n",
    "plt.show()"
   ]
  },
  {
   "cell_type": "code",
   "execution_count": null,
   "metadata": {},
   "outputs": [],
   "source": []
  }
 ],
 "metadata": {
  "kernelspec": {
   "display_name": "Python 3",
   "language": "python",
   "name": "python3"
  },
  "language_info": {
   "codemirror_mode": {
    "name": "ipython",
    "version": 3
   },
   "file_extension": ".py",
   "mimetype": "text/x-python",
   "name": "python",
   "nbconvert_exporter": "python",
   "pygments_lexer": "ipython3",
   "version": "3.7.4"
  }
 },
 "nbformat": 4,
 "nbformat_minor": 2
}
